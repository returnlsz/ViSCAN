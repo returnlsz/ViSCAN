{
 "cells": [
  {
   "cell_type": "code",
   "execution_count": 4,
   "id": "34fa3da3-e47d-4784-9026-42f07bf9678e",
   "metadata": {},
   "outputs": [
    {
     "name": "stdout",
     "output_type": "stream",
     "text": [
      "Traceback (most recent call last):\n",
      "  File \"tools/demo.py\", line 14, in <module>\n",
      "    from yolox.data.data_augment import ValTransform\n",
      "ModuleNotFoundError: No module named 'yolox'\n"
     ]
    }
   ],
   "source": [
    "# train \n",
    "!python tools/demo.py image -n yolov-l -c yolov_l.pth --path assets/dog.jpg --conf 0.25 --nms 0.45 --tsize 640 --save_result --device gpu"
   ]
  },
  {
   "cell_type": "code",
   "execution_count": 4,
   "id": "db221388-8dc3-4cc7-a39f-7446830864ce",
   "metadata": {},
   "outputs": [
    {
     "name": "stdout",
     "output_type": "stream",
     "text": [
      "/root/autodl-tmp/YOLOV\n"
     ]
    }
   ],
   "source": [
    "!pwd"
   ]
  },
  {
   "cell_type": "code",
   "execution_count": 6,
   "id": "c484ebc1-5c49-445e-a52d-74b746a537c4",
   "metadata": {},
   "outputs": [
    {
     "name": "stdout",
     "output_type": "stream",
     "text": [
      "Traceback (most recent call last):\n",
      "  File \"tools/yolov_demo_online.py\", line 14, in <module>\n",
      "    from yolox.data.data_augment import ValTransform\n",
      "ModuleNotFoundError: No module named 'yolox'\n"
     ]
    }
   ],
   "source": [
    "# online inference\n",
    "!python tools/yolov_demo_online.py -f ./exps/yolov/yolov_l_online.py -c weights/yolov_l.pth --path videos/0000.mp4 --conf 0.25 --nms 0.5 --tsize 576 --save_result false"
   ]
  },
  {
   "cell_type": "code",
   "execution_count": null,
   "id": "25c854e2-6f14-4529-b163-f599729fe7e4",
   "metadata": {},
   "outputs": [],
   "source": [
    "!python tools/demo.py -f ./exps/yolov/yolov_l_online.py -c yolov_l.pth --path video.mp4 --conf 0.25 --nms 0.5 --tsize 576 --save_result SAVE_RESULT"
   ]
  },
  {
   "cell_type": "code",
   "execution_count": null,
   "id": "bc1bb45c-1ea8-4b73-8362-f2c6420e4781",
   "metadata": {},
   "outputs": [],
   "source": [
    "!python tools/demo.py image -n yolov-l -c yolov_l.pth --path assets/dog.jpg --conf 0.25 --nms 0.45 --tsize 640 --save_result --device gpu"
   ]
  },
  {
   "cell_type": "code",
   "execution_count": null,
   "id": "be0e9a22-0c93-49ee-9711-19ecc90177c3",
   "metadata": {},
   "outputs": [],
   "source": [
    "!python tools/vid_train.py -f exps/yolov/yolov_l.py -c weights/yolov_l.pth --fp16"
   ]
  },
  {
   "cell_type": "code",
   "execution_count": 3,
   "id": "52097010-d406-4f49-b3a7-845e5968716e",
   "metadata": {},
   "outputs": [
    {
     "name": "stdout",
     "output_type": "stream",
     "text": [
      "/bin/bash: -c: line 0: syntax error near unexpected token `'./yolox/data/datasets/train_seq.npy',allow_pickle=True'\n",
      "/bin/bash: -c: line 0: `numpy.load('./yolox/data/datasets/train_seq.npy',allow_pickle=True)'\n"
     ]
    }
   ],
   "source": [
    "# yolov eval\n",
    "python tools/vid_eval.py -f exps/yolov/yolov_l.py --mode 'lc' -d 0 --lframe 32 --gframe 0 -c YOLOX_outputs/yolovl_0_obj_fl_head8/best_ckpt.pth --tnum 500 --fp16"
   ]
  },
  {
   "cell_type": "code",
   "execution_count": 1,
   "id": "4c877d87-dca1-42b5-9337-5af6972354a4",
   "metadata": {},
   "outputs": [
    {
     "name": "stdout",
     "output_type": "stream",
     "text": [
      "Traceback (most recent call last):\n",
      "  File \"tools/vid_train.py\", line 13, in <module>\n",
      "    from yolox.core import launch\n",
      "ModuleNotFoundError: No module named 'yolox'\n"
     ]
    }
   ],
   "source": [
    "# yolov train\n",
    "python tools/vid_train.py -f exps/yolov/yolov_l.py -c weights/yolov_l.pth --fp16 -b 32"
   ]
  },
  {
   "cell_type": "code",
   "execution_count": null,
   "id": "d5377f9c-85ec-4641-a0b0-748595a7b96f",
   "metadata": {},
   "outputs": [],
   "source": [
    "# yolov continue train\n",
    "python tools/vid_train.py -f exps/yolov/yolov_l.py -c weights/yolov_0318_uniform_ciou.pth --fp16 -b 32"
   ]
  },
  {
   "cell_type": "code",
   "execution_count": null,
   "id": "f1873240-0be0-4465-ae3d-e5bf7b467aca",
   "metadata": {},
   "outputs": [],
   "source": [
    "# yolov RESUME train\n",
    "python tools/vid_train.py -f exps/yolov/yolov_l.py -c YOLOX_outputs/yolov_l/latest_ckpt.pth --fp16 -b 32 --resume"
   ]
  },
  {
   "cell_type": "code",
   "execution_count": null,
   "id": "86f886b7-edd8-4925-8f80-0adb899ef7f3",
   "metadata": {},
   "outputs": [],
   "source": [
    "#inference\n",
    "python tools/vid_demo.py -f exps/yolov/yolov_l.py -c weights/yolov_0311.pth --path videos/0001.mp4 --conf 0.25 --nms 0.5 --tsize 576 --save_result true --device gpu"
   ]
  },
  {
   "cell_type": "code",
   "execution_count": null,
   "id": "2800eadd-1198-47ae-a5af-deffc94f44fd",
   "metadata": {},
   "outputs": [],
   "source": [
    "#yolox train\n",
    "python tools/train.py -f exps/yolov/yoloxl_vid.py -b 16 --fp16 -o -c weights/yoloxl_vid.pth"
   ]
  },
  {
   "cell_type": "code",
   "execution_count": null,
   "id": "354a50e6-edda-4513-af98-059392de812c",
   "metadata": {},
   "outputs": [],
   "source": [
    "#yolox RESUME train\n",
    "python tools/train.py -f exps/yolov/yoloxl_vid.py -b 16 --fp16 -o -c YOLOX_outputs/yoloxl_vid/latest_ckpt.pth --resume"
   ]
  },
  {
   "cell_type": "code",
   "execution_count": null,
   "id": "72bbb55d-a59b-4acf-9c03-1d487c00c4b4",
   "metadata": {},
   "outputs": [],
   "source": [
    "# yolox inference\n",
    "python tools/demo.py video -f exps/yolov/yoloxl_vid.py -c weights/yoloxl_0310.pth --path videos/0009.mp4 --conf 0.25 --nms 0.45 --tsize 640 --save_result --device gpu"
   ]
  }
 ],
 "metadata": {
  "kernelspec": {
   "display_name": "Python 3 (ipykernel)",
   "language": "python",
   "name": "python3"
  },
  "language_info": {
   "codemirror_mode": {
    "name": "ipython",
    "version": 3
   },
   "file_extension": ".py",
   "mimetype": "text/x-python",
   "name": "python",
   "nbconvert_exporter": "python",
   "pygments_lexer": "ipython3",
   "version": "3.8.10"
  }
 },
 "nbformat": 4,
 "nbformat_minor": 5
}
